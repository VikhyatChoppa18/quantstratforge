{
  "cells": [
    {
      "cell_type": "markdown",
      "metadata": {},
      "source": [
        "# 📈 QuantStratForge Demo Notebook\n",
        "\n",
        "**Privacy-preserving agentic SLM for quant strategy forging**\n",
        "\n",
        "This notebook demonstrates the key features of QuantStratForge:\n",
        "1. Data fetching and preparation\n",
        "2. AI strategy generation\n",
        "3. Strategy backtesting\n",
        "4. Strategy optimization\n"
      ]
    },
    {
      "cell_type": "code",
      "execution_count": null,
      "metadata": {},
      "outputs": [],
      "source": [
        "# Import required libraries\n",
        "import pandas as pd\n",
        "import numpy as np\n",
        "import matplotlib.pyplot as plt\n",
        "import seaborn as sns\n",
        "from quantstratforge import DataFetcher, StrategyGenerator, Backtester, Optimizer\n",
        "\n",
        "# Set plotting style\n",
        "plt.style.use('seaborn-v0_8')\n",
        "sns.set_palette(\"husl\")\n",
        "\n",
        "print(\"✅ Libraries imported successfully!\")\n"
      ]
    }
  ],
  "metadata": {
    "language_info": {
      "name": "python"
    }
  },
  "nbformat": 4,
  "nbformat_minor": 2
}
